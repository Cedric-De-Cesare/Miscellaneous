{
 "cells": [
  {
   "cell_type": "markdown",
   "metadata": {},
   "source": [
    "## Computing conditional probabilities with Pandas"
   ]
  },
  {
   "cell_type": "code",
   "execution_count": 1,
   "metadata": {
    "collapsed": false
   },
   "outputs": [],
   "source": [
    "%matplotlib inline\n",
    "import pandas as pd\n",
    "import matplotlib.pyplot as plt"
   ]
  },
  {
   "cell_type": "code",
   "execution_count": 2,
   "metadata": {
    "collapsed": false
   },
   "outputs": [
    {
     "name": "stdout",
     "output_type": "stream",
     "text": [
      "   a_to_b  b_to_c\n",
      "0      27      29\n",
      "1      23      34\n",
      "2      25      11\n",
      "3      27      35\n",
      "4      25      35\n"
     ]
    }
   ],
   "source": [
    "# Read observations A to B, and B to C into data frames\n",
    "df_AtoB = pd.read_table('./data/a_to_b.txt', header=None, names=['a_to_b'])\n",
    "df_BtoC = pd.read_table('./data/b_to_c.txt', header=None, names=['b_to_c'])\n",
    "# Merge data frames\n",
    "df = pd.concat([df_AtoB, df_BtoC], axis=1)\n",
    "print df.head()"
   ]
  },
  {
   "cell_type": "markdown",
   "metadata": {},
   "source": [
    "### Convention\n",
    "In the following we introduce the events A and B as follows:\n",
    "- Event A: event of travelling from A to B\n",
    "- Event B: event of travelling from B to C\n",
    "\n",
    "Our aim is to compute the probability of $A \\cap B$ as: $ p(A \\cap B) = p(B/A) * p(A)$"
   ]
  },
  {
   "cell_type": "markdown",
   "metadata": {},
   "source": [
    "### Compute $p(A)$"
   ]
  },
  {
   "cell_type": "code",
   "execution_count": 3,
   "metadata": {
    "collapsed": false
   },
   "outputs": [],
   "source": [
    "# Probability of event A: travelling from A to B\n",
    "prob_A = df.groupby('a_to_b').size().div(len(df))"
   ]
  },
  {
   "cell_type": "markdown",
   "metadata": {},
   "source": [
    "### Compute $p(B/A)$"
   ]
  },
  {
   "cell_type": "code",
   "execution_count": 4,
   "metadata": {
    "collapsed": false
   },
   "outputs": [
    {
     "name": "stdout",
     "output_type": "stream",
     "text": [
      "b_to_c  a_to_b\n",
      "6       22        0.042553\n",
      "        24        0.034884\n",
      "        25        0.020619\n",
      "        26        0.017241\n",
      "        39        0.043478\n",
      "        47        0.023810\n",
      "        50        0.050000\n",
      "        51        0.050000\n",
      "7       23        0.052632\n",
      "        25        0.051546\n",
      "        26        0.034483\n",
      "        27        0.093023\n",
      "        28        0.088235\n",
      "dtype: float64\n"
     ]
    }
   ],
   "source": [
    "# Conditional probability of event B given A: travelling from B to C given A to B\n",
    "prob_B_given_A = df.groupby(['b_to_c', 'a_to_b']).size().div(len(df)).div(prob_A, axis=0, level=1)\n",
    "print prob_B_given_A.head(13)"
   ]
  },
  {
   "cell_type": "markdown",
   "metadata": {},
   "source": [
    "### Compute  $p(A \\cap B)$"
   ]
  },
  {
   "cell_type": "code",
   "execution_count": 5,
   "metadata": {
    "collapsed": false
   },
   "outputs": [],
   "source": [
    "# Compute total time to travel from A to C\n",
    "time_a_to_c = [ii + jj for (ii,jj) in \\\n",
    "               zip(prob_B_given_A.index.get_level_values('a_to_b'),prob_B_given_A.index.get_level_values('b_to_c'))]\n",
    "\n",
    "# and put it into a datframe\n",
    "df_result = pd.DataFrame({'time_a_to_c':time_a_to_c})\n",
    "\n",
    "# Compute the corresponding probabilities o travelling from A to C for each pair (A to B, B to C)\n",
    "df_result['prob_a_to_c']=[prob_B_given_A[jj][ii] * prob_A[ii] for (ii,jj) in \\\n",
    "                          zip(prob_B_given_A.index.get_level_values('a_to_b'), prob_B_given_A.index.get_level_values('b_to_c'))]\n"
   ]
  },
  {
   "cell_type": "code",
   "execution_count": 6,
   "metadata": {
    "collapsed": false
   },
   "outputs": [],
   "source": [
    "# Group by total time to travel from A to C in order to have unique values of travelling time\n",
    "result = df_result.groupby(['time_a_to_c']).sum()"
   ]
  },
  {
   "cell_type": "markdown",
   "metadata": {},
   "source": [
    "### Display probability distribution of $p(A \\cap B) = p(B/A) * p(A)$"
   ]
  },
  {
   "cell_type": "code",
   "execution_count": 7,
   "metadata": {
    "collapsed": false
   },
   "outputs": [
    {
     "name": "stdout",
     "output_type": "stream",
     "text": [
      "1.0\n"
     ]
    },
    {
     "data": {
      "text/plain": [
       "<matplotlib.text.Text at 0x10b315290>"
      ]
     },
     "execution_count": 7,
     "metadata": {},
     "output_type": "execute_result"
    },
    {
     "data": {
      "image/png": "[encoded data removed]",
      "text/plain": [
       "<matplotlib.figure.Figure at 0x112574290>"
      ]
     },
     "metadata": {},
     "output_type": "display_data"
    }
   ],
   "source": [
    "# Check that sum of probabilities = 1\n",
    "print sum(result.prob_a_to_c)\n",
    "\n",
    "# and plot distribution\n",
    "plt.plot(result.index.get_level_values('time_a_to_c'), result.prob_a_to_c)\n",
    "plt.xlabel('Travelling time from A to C')\n",
    "plt.ylabel('Probability')\n",
    "plt.title('Probability distribution of travelling from A to C')"
   ]
  },
  {
   "cell_type": "code",
   "execution_count": null,
   "metadata": {
    "collapsed": false
   },
   "outputs": [],
   "source": []
  },
  {
   "cell_type": "code",
   "execution_count": null,
   "metadata": {
    "collapsed": true
   },
   "outputs": [],
   "source": []
  }
 ],
 "metadata": {
  "kernelspec": {
   "display_name": "Python 2",
   "language": "python",
   "name": "python2"
  },
  "language_info": {
   "codemirror_mode": {
    "name": "ipython",
    "version": 2
   },
   "file_extension": ".py",
   "mimetype": "text/x-python",
   "name": "python",
   "nbconvert_exporter": "python",
   "pygments_lexer": "ipython2",
   "version": "2.7.12"
  }
 },
 "nbformat": 4,
 "nbformat_minor": 0
}
