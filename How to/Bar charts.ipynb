{
 "cells": [
  {
   "cell_type": "markdown",
   "metadata": {},
   "source": [
    "# Matplolib Bar charts\n",
    "\n"
   ]
  },
  {
   "cell_type": "code",
   "execution_count": 36,
   "metadata": {
    "collapsed": true
   },
   "outputs": [],
   "source": [
    "%matplotlib inline\n",
    "import pandas as pd\n",
    "import matplotlib.pyplot as plt\n",
    "import numpy as np"
   ]
  },
  {
   "cell_type": "markdown",
   "metadata": {},
   "source": [
    "## Create dataframe"
   ]
  },
  {
   "cell_type": "code",
   "execution_count": 37,
   "metadata": {
    "collapsed": false
   },
   "outputs": [
    {
     "data": {
      "text/html": [
       "<div>\n",
       "<table border=\"1\" class=\"dataframe\">\n",
       "  <thead>\n",
       "    <tr style=\"text-align: right;\">\n",
       "      <th></th>\n",
       "      <th>officer_name</th>\n",
       "      <th>jan_arrests</th>\n",
       "      <th>feb_arrests</th>\n",
       "      <th>march_arrests</th>\n",
       "    </tr>\n",
       "  </thead>\n",
       "  <tbody>\n",
       "    <tr>\n",
       "      <th>0</th>\n",
       "      <td>Jake</td>\n",
       "      <td>10</td>\n",
       "      <td>13</td>\n",
       "      <td>21</td>\n",
       "    </tr>\n",
       "    <tr>\n",
       "      <th>1</th>\n",
       "      <td>Amy</td>\n",
       "      <td>13</td>\n",
       "      <td>9</td>\n",
       "      <td>18</td>\n",
       "    </tr>\n",
       "    <tr>\n",
       "      <th>2</th>\n",
       "      <td>Terry</td>\n",
       "      <td>31</td>\n",
       "      <td>10</td>\n",
       "      <td>22</td>\n",
       "    </tr>\n",
       "    <tr>\n",
       "      <th>3</th>\n",
       "      <td>Charles</td>\n",
       "      <td>2</td>\n",
       "      <td>2</td>\n",
       "      <td>3</td>\n",
       "    </tr>\n",
       "    <tr>\n",
       "      <th>4</th>\n",
       "      <td>Rosa</td>\n",
       "      <td>3</td>\n",
       "      <td>7</td>\n",
       "      <td>5</td>\n",
       "    </tr>\n",
       "  </tbody>\n",
       "</table>\n",
       "</div>"
      ],
      "text/plain": [
       "  officer_name  jan_arrests  feb_arrests  march_arrests\n",
       "0         Jake           10           13             21\n",
       "1          Amy           13            9             18\n",
       "2        Terry           31           10             22\n",
       "3      Charles            2            2              3\n",
       "4         Rosa            3            7              5"
      ]
     },
     "execution_count": 37,
     "metadata": {},
     "output_type": "execute_result"
    }
   ],
   "source": [
    "raw_data = {'officer_name': ['Jake', 'Amy', 'Terry', 'Charles', 'Rosa'],\n",
    "        'jan_arrests': [10, 13, 31, 2, 3],\n",
    "        'feb_arrests': [13, 9, 10, 2, 7],\n",
    "        'march_arrests': [21, 18, 22, 3, 5]}\n",
    "df = pd.DataFrame(raw_data, columns = ['officer_name', 'jan_arrests', 'feb_arrests', 'march_arrests'])\n",
    "df"
   ]
  },
  {
   "cell_type": "code",
   "execution_count": 38,
   "metadata": {
    "collapsed": false
   },
   "outputs": [
    {
     "data": {
      "text/html": [
       "<div>\n",
       "<table border=\"1\" class=\"dataframe\">\n",
       "  <thead>\n",
       "    <tr style=\"text-align: right;\">\n",
       "      <th></th>\n",
       "      <th>officer_name</th>\n",
       "      <th>jan_arrests</th>\n",
       "      <th>feb_arrests</th>\n",
       "      <th>march_arrests</th>\n",
       "      <th>mean</th>\n",
       "      <th>std</th>\n",
       "    </tr>\n",
       "  </thead>\n",
       "  <tbody>\n",
       "    <tr>\n",
       "      <th>0</th>\n",
       "      <td>Jake</td>\n",
       "      <td>10</td>\n",
       "      <td>13</td>\n",
       "      <td>21</td>\n",
       "      <td>14.666667</td>\n",
       "      <td>5.686241</td>\n",
       "    </tr>\n",
       "    <tr>\n",
       "      <th>1</th>\n",
       "      <td>Amy</td>\n",
       "      <td>13</td>\n",
       "      <td>9</td>\n",
       "      <td>18</td>\n",
       "      <td>13.333333</td>\n",
       "      <td>4.509250</td>\n",
       "    </tr>\n",
       "    <tr>\n",
       "      <th>2</th>\n",
       "      <td>Terry</td>\n",
       "      <td>31</td>\n",
       "      <td>10</td>\n",
       "      <td>22</td>\n",
       "      <td>21.000000</td>\n",
       "      <td>10.535654</td>\n",
       "    </tr>\n",
       "    <tr>\n",
       "      <th>3</th>\n",
       "      <td>Charles</td>\n",
       "      <td>2</td>\n",
       "      <td>2</td>\n",
       "      <td>3</td>\n",
       "      <td>2.333333</td>\n",
       "      <td>0.577350</td>\n",
       "    </tr>\n",
       "    <tr>\n",
       "      <th>4</th>\n",
       "      <td>Rosa</td>\n",
       "      <td>3</td>\n",
       "      <td>7</td>\n",
       "      <td>5</td>\n",
       "      <td>5.000000</td>\n",
       "      <td>2.000000</td>\n",
       "    </tr>\n",
       "  </tbody>\n",
       "</table>\n",
       "</div>"
      ],
      "text/plain": [
       "  officer_name  jan_arrests  feb_arrests  march_arrests       mean        std\n",
       "0         Jake           10           13             21  14.666667   5.686241\n",
       "1          Amy           13            9             18  13.333333   4.509250\n",
       "2        Terry           31           10             22  21.000000  10.535654\n",
       "3      Charles            2            2              3   2.333333   0.577350\n",
       "4         Rosa            3            7              5   5.000000   2.000000"
      ]
     },
     "execution_count": 38,
     "metadata": {},
     "output_type": "execute_result"
    }
   ],
   "source": [
    "# Create/add columns with the average arrests for each officer as well as their std\n",
    "sub_df = df[['jan_arrests', 'feb_arrests', 'march_arrests']]\n",
    "df['mean'] = sub_df.mean(axis=1)\n",
    "df['std'] = sub_df.std(axis=1)\n",
    "df"
   ]
  },
  {
   "cell_type": "markdown",
   "metadata": {},
   "source": [
    "## Bar chart with error bars "
   ]
  },
  {
   "cell_type": "code",
   "execution_count": 39,
   "metadata": {
    "collapsed": false
   },
   "outputs": [
    {
     "data": {
      "image/png": "[encoded data removed]",
      "text/plain": [
       "<matplotlib.figure.Figure at 0x11267f790>"
      ]
     },
     "metadata": {},
     "output_type": "display_data"
    }
   ],
   "source": [
    "# Plot bars\n",
    "labels = df['officer_name']\n",
    "mean_values = df['mean']\n",
    "err_values = df['std']\n",
    "top_margin = 5\n",
    "x_pos = list(xrange(len(labels)))\n",
    "plt.bar(x_pos, mean_values, yerr=err_values, align='center', alpha=0.5)\n",
    "\n",
    "plt.grid()\n",
    "\n",
    "# Set height of the y-axis\n",
    "max_y = max(zip(mean_values, err_values))\n",
    "plt.ylim([0, (max_y[0] + max_y[1]) + top_margin])\n",
    "\n",
    "# Set axes, labels and title\n",
    "plt.ylabel('Nb arrests')\n",
    "plt.xticks(x_pos, labels)\n",
    "plt.title('Average number of arrests per officer')\n",
    "\n",
    "plt.show()"
   ]
  },
  {
   "cell_type": "markdown",
   "metadata": {},
   "source": [
    "## Horizontal Bar chart with error bars \n"
   ]
  },
  {
   "cell_type": "code",
   "execution_count": 40,
   "metadata": {
    "collapsed": false
   },
   "outputs": [
    {
     "data": {
      "image/png": "[encoded data removed]",
      "text/plain": [
       "<matplotlib.figure.Figure at 0x11639d350>"
      ]
     },
     "metadata": {},
     "output_type": "display_data"
    }
   ],
   "source": [
    "# Plot horizontal bars\n",
    "labels = df['officer_name']\n",
    "mean_values = df['mean']\n",
    "err_values = df['std']\n",
    "y_pos = np.arange(len(mean_values))\n",
    "y_pos = [x for x in y_pos]\n",
    "plt.yticks(y_pos, labels, fontsize=10)\n",
    "plt.barh(y_pos, mean_values, xerr=err_values, align='center', alpha=0.4, color='g')\n",
    "\n",
    "# Set axes, labels and title\n",
    "max_x = max(zip(mean_values, err_values))\n",
    "plt.xlabel('Nb arrests')\n",
    "t = plt.title('Average number of arrests per officer')\n",
    "plt.ylim([-1,len(mean_values)+0.5])\n",
    "plt.xlim([0, (max_y[0] + max_y[1]) + top_margin])\n",
    "plt.grid()\n",
    "\n",
    "plt.show()"
   ]
  },
  {
   "cell_type": "markdown",
   "metadata": {
    "collapsed": true
   },
   "source": [
    "### Stacked bar charts"
   ]
  },
  {
   "cell_type": "code",
   "execution_count": 41,
   "metadata": {
    "collapsed": false
   },
   "outputs": [
    {
     "data": {
      "image/png": "[encoded data removed]",
      "text/plain": [
       "<matplotlib.figure.Figure at 0x1160c60d0>"
      ]
     },
     "metadata": {},
     "output_type": "display_data"
    }
   ],
   "source": [
    "# Create the general blog and the \"subplots\" i.e. the bars\n",
    "f, ax = plt.subplots(1)\n",
    "\n",
    "# Set plot attributes\n",
    "colors = ['#cef9d1', '#66f4cc', '#0c9c7c']\n",
    "alpha = 0.75\n",
    "# Set the bar width\n",
    "bar_width = 0.5\n",
    "# Positions of the x-axis ticks\n",
    "x_pos = list(xrange(len(labels)))\n",
    "\n",
    "# Create bar plot for January arrests\n",
    "ax.bar(x_pos, df['jan_arrests'], \n",
    "        width=bar_width, \n",
    "        label='January',\n",
    "        align='center',\n",
    "        alpha=alpha, \n",
    "        color=colors[0])\n",
    "\n",
    "# Stack February arrests on top of January result\n",
    "ax.bar(x_pos, df['feb_arrests'], \n",
    "        width=bar_width, \n",
    "        bottom=df['jan_arrests'], \n",
    "        label='February',\n",
    "        align='center',\n",
    "        alpha=alpha, color=colors[1])\n",
    "\n",
    "# Stack March arrests on top of January and February results\n",
    "ax.bar(x_pos, df['march_arrests'], \n",
    "        width=bar_width, \n",
    "        bottom=df['jan_arrests'] + df['feb_arrests'], \n",
    "        label='March',\n",
    "        align='center',\n",
    "        alpha=alpha, \n",
    "        color=colors[2])\n",
    "\n",
    "# Set the xticks, label and legends\n",
    "plt.xticks(x_pos, df['officer_name'])\n",
    "ax.set_ylabel(\"Arrests\")\n",
    "ax.set_xlabel(\"Officers\")\n",
    "plt.legend(loc='best')\n",
    "\n",
    "# Set a buffer around the edge\n",
    "plt.xlim([min(x_pos)-bar_width, max(x_pos)+bar_width])\n",
    "plt.grid()"
   ]
  },
  {
   "cell_type": "code",
   "execution_count": null,
   "metadata": {
    "collapsed": true
   },
   "outputs": [],
   "source": []
  }
 ],
 "metadata": {
  "kernelspec": {
   "display_name": "Python 2",
   "language": "python",
   "name": "python2"
  },
  "language_info": {
   "codemirror_mode": {
    "name": "ipython",
    "version": 2
   },
   "file_extension": ".py",
   "mimetype": "text/x-python",
   "name": "python",
   "nbconvert_exporter": "python",
   "pygments_lexer": "ipython2",
   "version": "2.7.12"
  }
 },
 "nbformat": 4,
 "nbformat_minor": 0
}
